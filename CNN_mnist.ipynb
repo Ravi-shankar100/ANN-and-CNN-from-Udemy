{
  "nbformat": 4,
  "nbformat_minor": 0,
  "metadata": {
    "colab": {
      "name": "CNN_mnist.ipynb",
      "provenance": [],
      "collapsed_sections": [],
      "authorship_tag": "ABX9TyPy9cIciQAtp6ltmGczDkZ9",
      "include_colab_link": true
    },
    "kernelspec": {
      "name": "python3",
      "display_name": "Python 3"
    }
  },
  "cells": [
    {
      "cell_type": "markdown",
      "metadata": {
        "id": "view-in-github",
        "colab_type": "text"
      },
      "source": [
        "<a href=\"https://colab.research.google.com/github/Ravi-shankar100/ANN-and-CNN-from-Udemy/blob/main/CNN_mnist.ipynb\" target=\"_parent\"><img src=\"https://colab.research.google.com/assets/colab-badge.svg\" alt=\"Open In Colab\"/></a>"
      ]
    },
    {
      "cell_type": "code",
      "metadata": {
        "id": "AUdouRwobrhZ"
      },
      "source": [
        "import numpy as np\r\n",
        "import pandas as pd\r\n",
        "import matplotlib.pyplot as plt\r\n",
        "import matplotlib as mpl"
      ],
      "execution_count": null,
      "outputs": []
    },
    {
      "cell_type": "code",
      "metadata": {
        "id": "MgBxZpMjcVz9"
      },
      "source": [
        "import tensorflow as tf\r\n",
        "from tensorflow import keras"
      ],
      "execution_count": null,
      "outputs": []
    },
    {
      "cell_type": "code",
      "metadata": {
        "colab": {
          "base_uri": "https://localhost:8080/"
        },
        "id": "Lx3AX4Y5chfJ",
        "outputId": "1c38701f-c1c7-4f76-b35b-067966b73323"
      },
      "source": [
        "#Importing the Dataset\r\n",
        "\r\n",
        "fashion_mnist = keras.datasets.fashion_mnist\r\n",
        "(X_train_full,y_train_full) , (X_test,y_test) = fashion_mnist.load_data()"
      ],
      "execution_count": null,
      "outputs": [
        {
          "output_type": "stream",
          "text": [
            "Downloading data from https://storage.googleapis.com/tensorflow/tf-keras-datasets/train-labels-idx1-ubyte.gz\n",
            "32768/29515 [=================================] - 0s 0us/step\n",
            "Downloading data from https://storage.googleapis.com/tensorflow/tf-keras-datasets/train-images-idx3-ubyte.gz\n",
            "26427392/26421880 [==============================] - 0s 0us/step\n",
            "Downloading data from https://storage.googleapis.com/tensorflow/tf-keras-datasets/t10k-labels-idx1-ubyte.gz\n",
            "8192/5148 [===============================================] - 0s 0us/step\n",
            "Downloading data from https://storage.googleapis.com/tensorflow/tf-keras-datasets/t10k-images-idx3-ubyte.gz\n",
            "4423680/4422102 [==============================] - 0s 0us/step\n"
          ],
          "name": "stdout"
        }
      ]
    },
    {
      "cell_type": "code",
      "metadata": {
        "id": "bD--3ZlKdM8q"
      },
      "source": [
        "class_names = [\"T-shirt/top\",\"Trouser\",\"pullover\",\"Dress\",\"Coat\",\"Sandal\",\"Shirt\",\"Sneaker\",\"Bag\",\"Ankle boot\"]"
      ],
      "execution_count": null,
      "outputs": []
    },
    {
      "cell_type": "code",
      "metadata": {
        "id": "jrZZWJ7pdcbe"
      },
      "source": [
        "#Data Reshape as CNN requires 3 dimensional input for network unlike for the ANN\r\n",
        "#This is the only difference for ANN and CNN for this dataset\r\n",
        "\r\n",
        "X_train_full = X_train_full.reshape((60000,28,28,1))\r\n",
        "X_test = X_test.reshape((10000,28,28,1))"
      ],
      "execution_count": null,
      "outputs": []
    },
    {
      "cell_type": "code",
      "metadata": {
        "colab": {
          "base_uri": "https://localhost:8080/"
        },
        "id": "hpIuN8HfeKNa",
        "outputId": "8305b744-40af-4719-b2ba-c295ad008faa"
      },
      "source": [
        "X_train_full.shape , X_test.shape "
      ],
      "execution_count": null,
      "outputs": [
        {
          "output_type": "execute_result",
          "data": {
            "text/plain": [
              "((60000, 28, 28, 1), (10000, 28, 28, 1))"
            ]
          },
          "metadata": {
            "tags": []
          },
          "execution_count": 7
        }
      ]
    },
    {
      "cell_type": "code",
      "metadata": {
        "id": "kTXuXdCCeO5v"
      },
      "source": [
        "#Data Normalization\r\n",
        "\r\n",
        "X_train_n = X_train_full/255.\r\n",
        "X_test_n = X_test/255."
      ],
      "execution_count": null,
      "outputs": []
    },
    {
      "cell_type": "code",
      "metadata": {
        "id": "Nqt7JI5KeenJ"
      },
      "source": [
        "#Train Test Split\r\n",
        "\r\n",
        "X_valid,X_train = X_train_n[:5000],X_train_n[5000:]\r\n",
        "y_valid,y_train = y_train_full[:5000],y_train_full[5000:]\r\n",
        "X_test = X_test_n"
      ],
      "execution_count": null,
      "outputs": []
    },
    {
      "cell_type": "code",
      "metadata": {
        "colab": {
          "base_uri": "https://localhost:8080/"
        },
        "id": "AItY_7qKfD58",
        "outputId": "0ce6d787-c525-4d4f-fb14-d0a7da75fbf8"
      },
      "source": [
        "X_train.shape,X_test.shape"
      ],
      "execution_count": null,
      "outputs": [
        {
          "output_type": "execute_result",
          "data": {
            "text/plain": [
              "((55000, 28, 28, 1), (10000, 28, 28, 1))"
            ]
          },
          "metadata": {
            "tags": []
          },
          "execution_count": 10
        }
      ]
    },
    {
      "cell_type": "code",
      "metadata": {
        "id": "nk8bZUOkfF8_"
      },
      "source": [
        "#Create the Model Architecture\r\n",
        "\r\n",
        "np.random.seed(42)\r\n",
        "tf.random.set_seed(42)"
      ],
      "execution_count": null,
      "outputs": []
    },
    {
      "cell_type": "code",
      "metadata": {
        "id": "X1gvx6IGg3eN"
      },
      "source": [
        "model = keras.models.Sequential()\r\n",
        "model.add(keras.layers.Conv2D(filters = 32,strides=1,padding=\"valid\",kernel_size=(3,3),activation=\"relu\",input_shape = (28,28,1)))\r\n",
        "model.add(keras.layers.MaxPooling2D(pool_size = (2,2)))\r\n",
        "\r\n",
        "model.add(keras.layers.Flatten())\r\n",
        "model.add(keras.layers.Dense(300,activation = \"relu\"))\r\n",
        "model.add(keras.layers.Dense(100,activation = \"relu\"))\r\n",
        "model.add(keras.layers.Dense(10,activation = \"softmax\"))"
      ],
      "execution_count": null,
      "outputs": []
    },
    {
      "cell_type": "code",
      "metadata": {
        "colab": {
          "base_uri": "https://localhost:8080/"
        },
        "id": "A24n5sVSisFU",
        "outputId": "e035919e-fb00-4bb1-fc43-b47a36a63ebb"
      },
      "source": [
        "model.summary()"
      ],
      "execution_count": null,
      "outputs": [
        {
          "output_type": "stream",
          "text": [
            "Model: \"sequential\"\n",
            "_________________________________________________________________\n",
            "Layer (type)                 Output Shape              Param #   \n",
            "=================================================================\n",
            "conv2d (Conv2D)              (None, 26, 26, 32)        320       \n",
            "_________________________________________________________________\n",
            "max_pooling2d (MaxPooling2D) (None, 13, 13, 32)        0         \n",
            "_________________________________________________________________\n",
            "flatten (Flatten)            (None, 5408)              0         \n",
            "_________________________________________________________________\n",
            "dense (Dense)                (None, 300)               1622700   \n",
            "_________________________________________________________________\n",
            "dense_1 (Dense)              (None, 100)               30100     \n",
            "_________________________________________________________________\n",
            "dense_2 (Dense)              (None, 10)                1010      \n",
            "=================================================================\n",
            "Total params: 1,654,130\n",
            "Trainable params: 1,654,130\n",
            "Non-trainable params: 0\n",
            "_________________________________________________________________\n"
          ],
          "name": "stdout"
        }
      ]
    },
    {
      "cell_type": "code",
      "metadata": {
        "id": "MFKTtxcTivxv"
      },
      "source": [
        "model.compile(loss = \"sparse_categorical_crossentropy\",\r\n",
        "              optimizer = \"sgd\",\r\n",
        "              metrics = [\"accuracy\"])"
      ],
      "execution_count": null,
      "outputs": []
    },
    {
      "cell_type": "code",
      "metadata": {
        "colab": {
          "base_uri": "https://localhost:8080/"
        },
        "id": "9D1jTKKVkFir",
        "outputId": "6cee66b9-80b4-4c07-dc7b-8730616c7864"
      },
      "source": [
        "model_history = model.fit(X_train,y_train,epochs=30,batch_size=64,\r\n",
        "                          validation_data = (X_valid,y_valid))"
      ],
      "execution_count": null,
      "outputs": [
        {
          "output_type": "stream",
          "text": [
            "Epoch 1/30\n",
            "860/860 [==============================] - 10s 3ms/step - loss: 1.2805 - accuracy: 0.5729 - val_loss: 0.7468 - val_accuracy: 0.7374\n",
            "Epoch 2/30\n",
            "860/860 [==============================] - 2s 3ms/step - loss: 0.5661 - accuracy: 0.7956 - val_loss: 0.4954 - val_accuracy: 0.8184\n",
            "Epoch 3/30\n",
            "860/860 [==============================] - 2s 3ms/step - loss: 0.4941 - accuracy: 0.8206 - val_loss: 0.8780 - val_accuracy: 0.7128\n",
            "Epoch 4/30\n",
            "860/860 [==============================] - 2s 3ms/step - loss: 0.4541 - accuracy: 0.8390 - val_loss: 0.4158 - val_accuracy: 0.8568\n",
            "Epoch 5/30\n",
            "860/860 [==============================] - 2s 3ms/step - loss: 0.4337 - accuracy: 0.8443 - val_loss: 0.4382 - val_accuracy: 0.8462\n",
            "Epoch 6/30\n",
            "860/860 [==============================] - 2s 3ms/step - loss: 0.3978 - accuracy: 0.8565 - val_loss: 0.3767 - val_accuracy: 0.8700\n",
            "Epoch 7/30\n",
            "860/860 [==============================] - 2s 3ms/step - loss: 0.3819 - accuracy: 0.8655 - val_loss: 0.4103 - val_accuracy: 0.8540\n",
            "Epoch 8/30\n",
            "860/860 [==============================] - 2s 3ms/step - loss: 0.3616 - accuracy: 0.8700 - val_loss: 0.5120 - val_accuracy: 0.8114\n",
            "Epoch 9/30\n",
            "860/860 [==============================] - 2s 3ms/step - loss: 0.3571 - accuracy: 0.8707 - val_loss: 0.3701 - val_accuracy: 0.8680\n",
            "Epoch 10/30\n",
            "860/860 [==============================] - 2s 3ms/step - loss: 0.3363 - accuracy: 0.8793 - val_loss: 0.3859 - val_accuracy: 0.8574\n",
            "Epoch 11/30\n",
            "860/860 [==============================] - 2s 3ms/step - loss: 0.3253 - accuracy: 0.8797 - val_loss: 0.3468 - val_accuracy: 0.8744\n",
            "Epoch 12/30\n",
            "860/860 [==============================] - 2s 3ms/step - loss: 0.3110 - accuracy: 0.8879 - val_loss: 0.3230 - val_accuracy: 0.8876\n",
            "Epoch 13/30\n",
            "860/860 [==============================] - 2s 3ms/step - loss: 0.3029 - accuracy: 0.8921 - val_loss: 0.3303 - val_accuracy: 0.8876\n",
            "Epoch 14/30\n",
            "860/860 [==============================] - 2s 3ms/step - loss: 0.2977 - accuracy: 0.8908 - val_loss: 0.3897 - val_accuracy: 0.8558\n",
            "Epoch 15/30\n",
            "860/860 [==============================] - 2s 3ms/step - loss: 0.2912 - accuracy: 0.8942 - val_loss: 0.3749 - val_accuracy: 0.8646\n",
            "Epoch 16/30\n",
            "860/860 [==============================] - 2s 3ms/step - loss: 0.2824 - accuracy: 0.8972 - val_loss: 0.2956 - val_accuracy: 0.8936\n",
            "Epoch 17/30\n",
            "860/860 [==============================] - 2s 3ms/step - loss: 0.2729 - accuracy: 0.9005 - val_loss: 0.3980 - val_accuracy: 0.8626\n",
            "Epoch 18/30\n",
            "860/860 [==============================] - 2s 3ms/step - loss: 0.2721 - accuracy: 0.9014 - val_loss: 0.3530 - val_accuracy: 0.8756\n",
            "Epoch 19/30\n",
            "860/860 [==============================] - 2s 3ms/step - loss: 0.2675 - accuracy: 0.9031 - val_loss: 0.3024 - val_accuracy: 0.8926\n",
            "Epoch 20/30\n",
            "860/860 [==============================] - 2s 3ms/step - loss: 0.2611 - accuracy: 0.9043 - val_loss: 0.3245 - val_accuracy: 0.8826\n",
            "Epoch 21/30\n",
            "860/860 [==============================] - 2s 3ms/step - loss: 0.2565 - accuracy: 0.9069 - val_loss: 0.2816 - val_accuracy: 0.9006\n",
            "Epoch 22/30\n",
            "860/860 [==============================] - 2s 3ms/step - loss: 0.2502 - accuracy: 0.9084 - val_loss: 0.2869 - val_accuracy: 0.8952\n",
            "Epoch 23/30\n",
            "860/860 [==============================] - 2s 3ms/step - loss: 0.2468 - accuracy: 0.9087 - val_loss: 0.2764 - val_accuracy: 0.9016\n",
            "Epoch 24/30\n",
            "860/860 [==============================] - 2s 3ms/step - loss: 0.2357 - accuracy: 0.9141 - val_loss: 0.2973 - val_accuracy: 0.8918\n",
            "Epoch 25/30\n",
            "860/860 [==============================] - 2s 3ms/step - loss: 0.2365 - accuracy: 0.9136 - val_loss: 0.2940 - val_accuracy: 0.8960\n",
            "Epoch 26/30\n",
            "860/860 [==============================] - 2s 3ms/step - loss: 0.2329 - accuracy: 0.9138 - val_loss: 0.2810 - val_accuracy: 0.9034\n",
            "Epoch 27/30\n",
            "860/860 [==============================] - 2s 3ms/step - loss: 0.2278 - accuracy: 0.9162 - val_loss: 0.2688 - val_accuracy: 0.9006\n",
            "Epoch 28/30\n",
            "860/860 [==============================] - 2s 3ms/step - loss: 0.2174 - accuracy: 0.9198 - val_loss: 0.3066 - val_accuracy: 0.8932\n",
            "Epoch 29/30\n",
            "860/860 [==============================] - 2s 3ms/step - loss: 0.2161 - accuracy: 0.9197 - val_loss: 0.2711 - val_accuracy: 0.9034\n",
            "Epoch 30/30\n",
            "860/860 [==============================] - 2s 3ms/step - loss: 0.2118 - accuracy: 0.9230 - val_loss: 0.2712 - val_accuracy: 0.9056\n"
          ],
          "name": "stdout"
        }
      ]
    },
    {
      "cell_type": "code",
      "metadata": {
        "colab": {
          "base_uri": "https://localhost:8080/",
          "height": 324
        },
        "id": "5PHPQRCukXt2",
        "outputId": "2314dbd0-4799-47d6-b44b-e6f12b6e7a13"
      },
      "source": [
        "import pandas as pd\r\n",
        "\r\n",
        "pd.DataFrame(model_history.history).plot(figsize=(8,5))\r\n",
        "plt.grid()\r\n",
        "plt.gca().set_ylim(0,1)\r\n",
        "plt.show()"
      ],
      "execution_count": null,
      "outputs": [
        {
          "output_type": "display_data",
          "data": {
            "image/png": "[encoded data removed]",
            "text/plain": [
              "<Figure size 576x360 with 1 Axes>"
            ]
          },
          "metadata": {
            "tags": [],
            "needs_background": "light"
          }
        }
      ]
    },
    {
      "cell_type": "code",
      "metadata": {
        "colab": {
          "base_uri": "https://localhost:8080/"
        },
        "id": "5ky0yklmlATG",
        "outputId": "273c1abd-27e6-4b25-a4f4-06d51d4e69c3"
      },
      "source": [
        "ev = model.evaluate(X_test,y_test)"
      ],
      "execution_count": null,
      "outputs": [
        {
          "output_type": "stream",
          "text": [
            "313/313 [==============================] - 1s 2ms/step - loss: 0.2812 - accuracy: 0.8991\n"
          ],
          "name": "stdout"
        }
      ]
    },
    {
      "cell_type": "code",
      "metadata": {
        "id": "thbFbKumly_T"
      },
      "source": [
        "X_new = X_test[:3]"
      ],
      "execution_count": null,
      "outputs": []
    },
    {
      "cell_type": "code",
      "metadata": {
        "colab": {
          "base_uri": "https://localhost:8080/"
        },
        "id": "Q2wUVQd4mHp8",
        "outputId": "aaaed173-cf7b-4b61-d2eb-2689e621bc59"
      },
      "source": [
        "y_pred = model.predict(X_new)\r\n",
        "y_pred.round(2)"
      ],
      "execution_count": null,
      "outputs": [
        {
          "output_type": "execute_result",
          "data": {
            "text/plain": [
              "array([[0.  , 0.  , 0.  , 0.  , 0.  , 0.  , 0.  , 0.03, 0.  , 0.97],\n",
              "       [0.  , 0.  , 1.  , 0.  , 0.  , 0.  , 0.  , 0.  , 0.  , 0.  ],\n",
              "       [0.  , 1.  , 0.  , 0.  , 0.  , 0.  , 0.  , 0.  , 0.  , 0.  ]],\n",
              "      dtype=float32)"
            ]
          },
          "metadata": {
            "tags": []
          },
          "execution_count": 23
        }
      ]
    },
    {
      "cell_type": "code",
      "metadata": {
        "colab": {
          "base_uri": "https://localhost:8080/"
        },
        "id": "l4teBFn6mNGi",
        "outputId": "15c3a78a-496d-45f5-b4fb-c3af244af423"
      },
      "source": [
        "y_pred = model.predict_classes(X_new)\r\n",
        "y_pred"
      ],
      "execution_count": null,
      "outputs": [
        {
          "output_type": "stream",
          "text": [
            "/usr/local/lib/python3.6/dist-packages/tensorflow/python/keras/engine/sequential.py:450: UserWarning: `model.predict_classes()` is deprecated and will be removed after 2021-01-01. Please use instead:* `np.argmax(model.predict(x), axis=-1)`,   if your model does multi-class classification   (e.g. if it uses a `softmax` last-layer activation).* `(model.predict(x) > 0.5).astype(\"int32\")`,   if your model does binary classification   (e.g. if it uses a `sigmoid` last-layer activation).\n",
            "  warnings.warn('`model.predict_classes()` is deprecated and '\n"
          ],
          "name": "stderr"
        },
        {
          "output_type": "execute_result",
          "data": {
            "text/plain": [
              "array([9, 2, 1])"
            ]
          },
          "metadata": {
            "tags": []
          },
          "execution_count": 24
        }
      ]
    },
    {
      "cell_type": "code",
      "metadata": {
        "colab": {
          "base_uri": "https://localhost:8080/"
        },
        "id": "OuLcTGMxmTaU",
        "outputId": "40f4b2f7-f88a-402c-ad29-6976b36c9276"
      },
      "source": [
        "y_test[:3]"
      ],
      "execution_count": null,
      "outputs": [
        {
          "output_type": "execute_result",
          "data": {
            "text/plain": [
              "array([9, 2, 1], dtype=uint8)"
            ]
          },
          "metadata": {
            "tags": []
          },
          "execution_count": 25
        }
      ]
    },
    {
      "cell_type": "code",
      "metadata": {
        "colab": {
          "base_uri": "https://localhost:8080/",
          "height": 282
        },
        "id": "ZQFogEX0mc_f",
        "outputId": "c4f48551-f6a8-40ef-97d1-0bbbb0923192"
      },
      "source": [
        "#Displaying the image and convertinf from 3D to 2D\r\n",
        "\r\n",
        "plt.imshow(X_test[0].reshape((28,28)))"
      ],
      "execution_count": null,
      "outputs": [
        {
          "output_type": "execute_result",
          "data": {
            "text/plain": [
              "<matplotlib.image.AxesImage at 0x7f192f841e48>"
            ]
          },
          "metadata": {
            "tags": []
          },
          "execution_count": 26
        },
        {
          "output_type": "display_data",
          "data": {
            "image/png": "[encoded data removed]",
            "text/plain": [
              "<Figure size 432x288 with 1 Axes>"
            ]
          },
          "metadata": {
            "tags": [],
            "needs_background": "light"
          }
        }
      ]
    },
    {
      "cell_type": "code",
      "metadata": {
        "id": "RwrQ8278myi8"
      },
      "source": [
        ""
      ],
      "execution_count": null,
      "outputs": []
    }
  ]
}