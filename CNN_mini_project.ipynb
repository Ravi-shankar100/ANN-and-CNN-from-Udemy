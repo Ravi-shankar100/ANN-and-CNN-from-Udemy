{
  "nbformat": 4,
  "nbformat_minor": 0,
  "metadata": {
    "colab": {
      "name": "CNN_mini_project.ipynb",
      "provenance": [],
      "collapsed_sections": [],
      "mount_file_id": "1abHnoBJAfI-ujmQQQbdq8S18iA_tQ0jP",
      "authorship_tag": "ABX9TyOcpSzaj/bucMB/TCYMNIif",
      "include_colab_link": true
    },
    "kernelspec": {
      "name": "python3",
      "display_name": "Python 3"
    },
    "accelerator": "GPU"
  },
  "cells": [
    {
      "cell_type": "markdown",
      "metadata": {
        "id": "view-in-github",
        "colab_type": "text"
      },
      "source": [
        "<a href=\"https://colab.research.google.com/github/Ravi-shankar100/ANN-and-CNN-from-Udemy/blob/main/CNN_mini_project.ipynb\" target=\"_parent\"><img src=\"https://colab.research.google.com/assets/colab-badge.svg\" alt=\"Open In Colab\"/></a>"
      ]
    },
    {
      "cell_type": "code",
      "metadata": {
        "id": "XIfbJxVyE91G"
      },
      "source": [
        "import pandas as pd\r\n",
        "import numpy as np\r\n",
        "import matplotlib.pyplot as plt\r\n",
        "import matplotlib.pyplot as plt"
      ],
      "execution_count": null,
      "outputs": []
    },
    {
      "cell_type": "code",
      "metadata": {
        "id": "utir3DD1QI7b"
      },
      "source": [
        "import tensorflow as tf\r\n",
        "from tensorflow import keras"
      ],
      "execution_count": null,
      "outputs": []
    },
    {
      "cell_type": "code",
      "metadata": {
        "id": "XqBRBwRmQOJN"
      },
      "source": [
        "train_dir = '/content/drive/MyDrive/cats_and_dogs_photos/train'\r\n",
        "valid_dir = '/content/drive/MyDrive/cats_and_dogs_photos/validation'\r\n",
        "test_dir = '/content/drive/MyDrive/cats_and_dogs_photos/test'"
      ],
      "execution_count": null,
      "outputs": []
    },
    {
      "cell_type": "code",
      "metadata": {
        "id": "AKYiJlRMTWLs"
      },
      "source": [
        "#Data Preprocessing"
      ],
      "execution_count": null,
      "outputs": []
    },
    {
      "cell_type": "code",
      "metadata": {
        "id": "N-j3r753TaKf"
      },
      "source": [
        "from keras.preprocessing.image import ImageDataGenerator"
      ],
      "execution_count": null,
      "outputs": []
    },
    {
      "cell_type": "code",
      "metadata": {
        "colab": {
          "base_uri": "https://localhost:8080/"
        },
        "id": "rwENGqZCVBQK",
        "outputId": "d24f0abb-a916-4edf-8737-d97440a0442b"
      },
      "source": [
        "#Generating Batches of Image Data\r\n",
        "\r\n",
        "train_datagen = ImageDataGenerator(rescale=1./255)\r\n",
        "valid_datagen = ImageDataGenerator(rescale = 1./255)\r\n",
        "\r\n",
        "train_generator = train_datagen.flow_from_directory(\r\n",
        "    train_dir,\r\n",
        "    target_size = (150,150),\r\n",
        "    batch_size = 20,\r\n",
        "    class_mode = \"binary\"\r\n",
        ")\r\n",
        "\r\n",
        "valid_generator = valid_datagen.flow_from_directory(\r\n",
        "    valid_dir,\r\n",
        "    target_size = (150,150),\r\n",
        "    batch_size = 20,\r\n",
        "    class_mode = \"binary\"\r\n",
        ")"
      ],
      "execution_count": null,
      "outputs": [
        {
          "output_type": "stream",
          "text": [
            "Found 2000 images belonging to 2 classes.\n",
            "Found 1000 images belonging to 2 classes.\n"
          ],
          "name": "stdout"
        }
      ]
    },
    {
      "cell_type": "code",
      "metadata": {
        "id": "9JT5NvcHZ6_3"
      },
      "source": [
        "from tensorflow.keras import layers\r\n",
        "from tensorflow.keras import  models"
      ],
      "execution_count": null,
      "outputs": []
    },
    {
      "cell_type": "code",
      "metadata": {
        "id": "9MzDm6xGVyTd"
      },
      "source": [
        "#Creating the CNN Model\r\n",
        "\r\n",
        "model = keras.models.Sequential()\r\n",
        "\r\n",
        "model.add(keras.layers.Conv2D(32,(3,3),activation= \"relu\",input_shape = (150,150,3)))\r\n",
        "model.add(keras.layers.MaxPool2D(2,2))\r\n",
        "\r\n",
        "model.add(keras.layers.Conv2D(64,(3,3),activation= \"relu\",input_shape = (150,150,3)))\r\n",
        "model.add(keras.layers.MaxPool2D(2,2))\r\n",
        "\r\n",
        "model.add(keras.layers.Conv2D(128,(3,3),activation= \"relu\",input_shape = (150,150,3)))\r\n",
        "model.add(keras.layers.MaxPool2D(2,2))\r\n",
        "\r\n",
        "model.add(keras.layers.Conv2D(64,(3,3),activation= \"relu\",input_shape = (150,150,3)))\r\n",
        "model.add(keras.layers.MaxPool2D(2,2))\r\n",
        "\r\n",
        "model.add(keras.layers.Flatten())\r\n",
        "\r\n",
        "model.add(keras.layers.Dense(512,activation = \"relu\"))\r\n",
        "model.add(keras.layers.Dense(1,activation = \"sigmoid\"))\r\n"
      ],
      "execution_count": null,
      "outputs": []
    },
    {
      "cell_type": "code",
      "metadata": {
        "colab": {
          "base_uri": "https://localhost:8080/"
        },
        "id": "_tTE7eaHZmLy",
        "outputId": "4c9526c6-4dd7-4d3f-84ce-88539cb55477"
      },
      "source": [
        "model.summary()"
      ],
      "execution_count": null,
      "outputs": [
        {
          "output_type": "stream",
          "text": [
            "Model: \"sequential\"\n",
            "_________________________________________________________________\n",
            "Layer (type)                 Output Shape              Param #   \n",
            "=================================================================\n",
            "conv2d (Conv2D)              (None, 148, 148, 32)      896       \n",
            "_________________________________________________________________\n",
            "max_pooling2d (MaxPooling2D) (None, 74, 74, 32)        0         \n",
            "_________________________________________________________________\n",
            "conv2d_1 (Conv2D)            (None, 72, 72, 64)        18496     \n",
            "_________________________________________________________________\n",
            "max_pooling2d_1 (MaxPooling2 (None, 36, 36, 64)        0         \n",
            "_________________________________________________________________\n",
            "conv2d_2 (Conv2D)            (None, 34, 34, 128)       73856     \n",
            "_________________________________________________________________\n",
            "max_pooling2d_2 (MaxPooling2 (None, 17, 17, 128)       0         \n",
            "_________________________________________________________________\n",
            "conv2d_3 (Conv2D)            (None, 15, 15, 64)        73792     \n",
            "_________________________________________________________________\n",
            "max_pooling2d_3 (MaxPooling2 (None, 7, 7, 64)          0         \n",
            "_________________________________________________________________\n",
            "flatten (Flatten)            (None, 3136)              0         \n",
            "_________________________________________________________________\n",
            "dense (Dense)                (None, 512)               1606144   \n",
            "_________________________________________________________________\n",
            "dense_1 (Dense)              (None, 1)                 513       \n",
            "=================================================================\n",
            "Total params: 1,773,697\n",
            "Trainable params: 1,773,697\n",
            "Non-trainable params: 0\n",
            "_________________________________________________________________\n"
          ],
          "name": "stdout"
        }
      ]
    },
    {
      "cell_type": "code",
      "metadata": {
        "id": "74FHQfJ-ZzSg"
      },
      "source": [
        "model.compile(loss = \"binary_crossentropy\",\r\n",
        "              optimizer = keras.optimizers.RMSprop(learning_rate=1e-4),\r\n",
        "              metrics = [\"accuracy\"])"
      ],
      "execution_count": null,
      "outputs": []
    },
    {
      "cell_type": "code",
      "metadata": {
        "colab": {
          "base_uri": "https://localhost:8080/"
        },
        "id": "HSnKZQ0ddpxq",
        "outputId": "b5aa0be3-8b80-4c4b-9735-6fe4114678f0"
      },
      "source": [
        "model_history = model.fit_generator(\r\n",
        "    train_generator,\r\n",
        "    steps_per_epoch = 100,\r\n",
        "    epochs = 20,\r\n",
        "    validation_data = valid_generator,\r\n",
        "    validation_steps = 50\r\n",
        "    \r\n",
        ")"
      ],
      "execution_count": null,
      "outputs": [
        {
          "output_type": "stream",
          "text": [
            "/usr/local/lib/python3.6/dist-packages/tensorflow/python/keras/engine/training.py:1844: UserWarning: `Model.fit_generator` is deprecated and will be removed in a future version. Please use `Model.fit`, which supports generators.\n",
            "  warnings.warn('`Model.fit_generator` is deprecated and '\n"
          ],
          "name": "stderr"
        },
        {
          "output_type": "stream",
          "text": [
            "Epoch 1/20\n",
            "100/100 [==============================] - 657s 7s/step - loss: 0.6925 - accuracy: 0.5322 - val_loss: 0.6701 - val_accuracy: 0.6110\n",
            "Epoch 2/20\n",
            "100/100 [==============================] - 12s 116ms/step - loss: 0.6691 - accuracy: 0.5921 - val_loss: 0.6629 - val_accuracy: 0.5900\n",
            "Epoch 3/20\n",
            "100/100 [==============================] - 12s 117ms/step - loss: 0.6274 - accuracy: 0.6359 - val_loss: 0.6216 - val_accuracy: 0.6610\n",
            "Epoch 4/20\n",
            "100/100 [==============================] - 11s 114ms/step - loss: 0.5756 - accuracy: 0.7034 - val_loss: 0.6464 - val_accuracy: 0.6290\n",
            "Epoch 5/20\n",
            "100/100 [==============================] - 11s 115ms/step - loss: 0.5562 - accuracy: 0.7114 - val_loss: 0.5912 - val_accuracy: 0.6870\n",
            "Epoch 6/20\n",
            "100/100 [==============================] - 12s 116ms/step - loss: 0.5295 - accuracy: 0.7278 - val_loss: 0.6142 - val_accuracy: 0.6760\n",
            "Epoch 7/20\n",
            "100/100 [==============================] - 12s 117ms/step - loss: 0.4993 - accuracy: 0.7647 - val_loss: 0.5885 - val_accuracy: 0.6860\n",
            "Epoch 8/20\n",
            "100/100 [==============================] - 12s 115ms/step - loss: 0.4788 - accuracy: 0.7600 - val_loss: 0.5738 - val_accuracy: 0.7050\n",
            "Epoch 9/20\n",
            "100/100 [==============================] - 12s 115ms/step - loss: 0.4660 - accuracy: 0.7793 - val_loss: 0.6293 - val_accuracy: 0.6740\n",
            "Epoch 10/20\n",
            "100/100 [==============================] - 12s 116ms/step - loss: 0.4590 - accuracy: 0.7710 - val_loss: 0.6414 - val_accuracy: 0.6770\n",
            "Epoch 11/20\n",
            "100/100 [==============================] - 12s 116ms/step - loss: 0.4160 - accuracy: 0.8169 - val_loss: 0.6074 - val_accuracy: 0.6970\n",
            "Epoch 12/20\n",
            "100/100 [==============================] - 11s 115ms/step - loss: 0.4023 - accuracy: 0.8044 - val_loss: 0.5494 - val_accuracy: 0.7290\n",
            "Epoch 13/20\n",
            "100/100 [==============================] - 12s 116ms/step - loss: 0.3724 - accuracy: 0.8440 - val_loss: 0.5292 - val_accuracy: 0.7470\n",
            "Epoch 14/20\n",
            "100/100 [==============================] - 11s 113ms/step - loss: 0.3540 - accuracy: 0.8450 - val_loss: 0.5453 - val_accuracy: 0.7370\n",
            "Epoch 15/20\n",
            "100/100 [==============================] - 12s 116ms/step - loss: 0.3240 - accuracy: 0.8620 - val_loss: 0.5380 - val_accuracy: 0.7410\n",
            "Epoch 16/20\n",
            "100/100 [==============================] - 12s 119ms/step - loss: 0.3113 - accuracy: 0.8727 - val_loss: 0.6673 - val_accuracy: 0.7080\n",
            "Epoch 17/20\n",
            "100/100 [==============================] - 12s 115ms/step - loss: 0.3017 - accuracy: 0.8805 - val_loss: 0.5605 - val_accuracy: 0.7340\n",
            "Epoch 18/20\n",
            "100/100 [==============================] - 12s 116ms/step - loss: 0.2713 - accuracy: 0.8868 - val_loss: 0.5800 - val_accuracy: 0.7270\n",
            "Epoch 19/20\n",
            "100/100 [==============================] - 11s 115ms/step - loss: 0.2576 - accuracy: 0.8942 - val_loss: 0.5932 - val_accuracy: 0.7320\n",
            "Epoch 20/20\n",
            "100/100 [==============================] - 12s 116ms/step - loss: 0.2615 - accuracy: 0.9052 - val_loss: 0.6532 - val_accuracy: 0.7220\n"
          ],
          "name": "stdout"
        }
      ]
    },
    {
      "cell_type": "code",
      "metadata": {
        "colab": {
          "base_uri": "https://localhost:8080/",
          "height": 324
        },
        "id": "1VxRT3LygSZP",
        "outputId": "f9c0fd7a-8b93-4264-e8c3-71821df34bbd"
      },
      "source": [
        "pd.DataFrame(model_history.history).plot(figsize = (8,5))\r\n",
        "plt.grid()\r\n",
        "plt.gca().set_ylim(0,1)\r\n",
        "plt.show()"
      ],
      "execution_count": null,
      "outputs": [
        {
          "output_type": "display_data",
          "data": {
            "image/png": "[encoded data removed]",
            "text/plain": [
              "<Figure size 576x360 with 1 Axes>"
            ]
          },
          "metadata": {
            "tags": [],
            "needs_background": "light"
          }
        }
      ]
    },
    {
      "cell_type": "code",
      "metadata": {
        "id": "PNsPTAdwoyMO"
      },
      "source": [
        "#From this above model we have a overfitting as there is a huge gap between train acc and val acc\r\n",
        "#We will create the dummy data and then fit the model again with the new data\r\n",
        "\r\n",
        "model.save(\"model.h5\")"
      ],
      "execution_count": null,
      "outputs": []
    },
    {
      "cell_type": "code",
      "metadata": {
        "id": "HtAQ2y0Yptus"
      },
      "source": [
        "import keras.backend as k\r\n",
        "\r\n",
        "k.clear_session()\r\n",
        "del model"
      ],
      "execution_count": null,
      "outputs": []
    },
    {
      "cell_type": "code",
      "metadata": {
        "id": "yddrCAkMp7WS"
      },
      "source": [
        "#Applying Data Augmentation to the Training Data\r\n",
        "\r\n",
        "train_datagen = ImageDataGenerator(\r\n",
        "    rescale = 1./255,\r\n",
        "    rotation_range = 40,\r\n",
        "    width_shift_range = 0.2,\r\n",
        "    height_shift_range = 0.2,\r\n",
        "    shear_range = 0.2,\r\n",
        "    zoom_range = 0.2,\r\n",
        "    horizontal_flip = True\r\n",
        ")\r\n",
        "\r\n",
        "test_datagen = ImageDataGenerator(rescale= 1./255)"
      ],
      "execution_count": null,
      "outputs": []
    },
    {
      "cell_type": "code",
      "metadata": {
        "colab": {
          "base_uri": "https://localhost:8080/"
        },
        "id": "kh_TRDUHrHI0",
        "outputId": "1a02726f-6144-4cd7-83b1-ecf69883a5da"
      },
      "source": [
        "train_generator = train_datagen.flow_from_directory(\r\n",
        "    train_dir,\r\n",
        "    target_size = (150,150),\r\n",
        "    batch_size = 32,\r\n",
        "    class_mode = \"binary\"\r\n",
        ")\r\n",
        "\r\n",
        "valid_generator = test_datagen.flow_from_directory(\r\n",
        "    valid_dir,\r\n",
        "    target_size = (150,150),\r\n",
        "    batch_size = 20,\r\n",
        "    class_mode = \"binary\"\r\n",
        ")"
      ],
      "execution_count": null,
      "outputs": [
        {
          "output_type": "stream",
          "text": [
            "Found 2000 images belonging to 2 classes.\n",
            "Found 1000 images belonging to 2 classes.\n"
          ],
          "name": "stdout"
        }
      ]
    },
    {
      "cell_type": "code",
      "metadata": {
        "id": "XhYlCfU1tDn4"
      },
      "source": [
        "import keras.layers as layers\r\n",
        "import keras.models as models"
      ],
      "execution_count": null,
      "outputs": []
    },
    {
      "cell_type": "code",
      "metadata": {
        "id": "F2fPUDfXsmdv"
      },
      "source": [
        "#Create the CNN Model\r\n",
        "\r\n",
        "model = models.Sequential()\r\n",
        "model.add(layers.Conv2D(32,(3,3),activation= \"relu\",input_shape = (150,150,3)))\r\n",
        "model.add(layers.MaxPool2D(2,2))\r\n",
        "\r\n",
        "model.add(layers.Conv2D(64,(3,3),activation= \"relu\",input_shape = (150,150,3)))\r\n",
        "model.add(layers.MaxPool2D(2,2))\r\n",
        "\r\n",
        "model.add(layers.Conv2D(128,(3,3),activation= \"relu\",input_shape = (150,150,3)))\r\n",
        "model.add(layers.MaxPool2D(2,2))\r\n",
        "\r\n",
        "model.add(layers.Conv2D(128,(3,3),activation= \"relu\",input_shape = (150,150,3)))\r\n",
        "model.add(layers.MaxPool2D(2,2))\r\n",
        "\r\n",
        "model.add(layers.Flatten())\r\n",
        "\r\n",
        "model.add(layers.Dropout(0.5))\r\n",
        "\r\n",
        "model.add(layers.Dense(512,activation = \"relu\"))\r\n",
        "model.add(layers.Dense(1,activation = \"sigmoid\"))"
      ],
      "execution_count": null,
      "outputs": []
    },
    {
      "cell_type": "code",
      "metadata": {
        "colab": {
          "base_uri": "https://localhost:8080/"
        },
        "id": "pNsLs3zKuFvt",
        "outputId": "749b6455-7ee9-422d-d21b-7edc8d74c4a5"
      },
      "source": [
        "model.summary()"
      ],
      "execution_count": null,
      "outputs": [
        {
          "output_type": "stream",
          "text": [
            "Model: \"sequential\"\n",
            "_________________________________________________________________\n",
            "Layer (type)                 Output Shape              Param #   \n",
            "=================================================================\n",
            "conv2d (Conv2D)              (None, 148, 148, 32)      896       \n",
            "_________________________________________________________________\n",
            "max_pooling2d (MaxPooling2D) (None, 74, 74, 32)        0         \n",
            "_________________________________________________________________\n",
            "conv2d_1 (Conv2D)            (None, 72, 72, 64)        18496     \n",
            "_________________________________________________________________\n",
            "max_pooling2d_1 (MaxPooling2 (None, 36, 36, 64)        0         \n",
            "_________________________________________________________________\n",
            "conv2d_2 (Conv2D)            (None, 34, 34, 128)       73856     \n",
            "_________________________________________________________________\n",
            "max_pooling2d_2 (MaxPooling2 (None, 17, 17, 128)       0         \n",
            "_________________________________________________________________\n",
            "conv2d_3 (Conv2D)            (None, 15, 15, 128)       147584    \n",
            "_________________________________________________________________\n",
            "max_pooling2d_3 (MaxPooling2 (None, 7, 7, 128)         0         \n",
            "_________________________________________________________________\n",
            "flatten (Flatten)            (None, 6272)              0         \n",
            "_________________________________________________________________\n",
            "dropout (Dropout)            (None, 6272)              0         \n",
            "_________________________________________________________________\n",
            "dense (Dense)                (None, 512)               3211776   \n",
            "_________________________________________________________________\n",
            "dense_1 (Dense)              (None, 1)                 513       \n",
            "=================================================================\n",
            "Total params: 3,453,121\n",
            "Trainable params: 3,453,121\n",
            "Non-trainable params: 0\n",
            "_________________________________________________________________\n"
          ],
          "name": "stdout"
        }
      ]
    },
    {
      "cell_type": "code",
      "metadata": {
        "id": "aNy5bn6RuH5p"
      },
      "source": [
        "model.compile(loss= \"binary_crossentropy\",\r\n",
        "              optimizer = keras.optimizers.RMSprop(learning_rate=1e-4),\r\n",
        "              metrics = [\"accuracy\"])"
      ],
      "execution_count": null,
      "outputs": []
    },
    {
      "cell_type": "code",
      "metadata": {
        "id": "ACQMJZvYubOu"
      },
      "source": [
        "model_history = model.fit_generator(\r\n",
        "    train_generator,\r\n",
        "    steps_per_epoch = 100,\r\n",
        "    epochs = 20,\r\n",
        "    validation_data = valid_generator,\r\n",
        "    validation_steps = 50\r\n",
        ")"
      ],
      "execution_count": null,
      "outputs": []
    }
  ]
}